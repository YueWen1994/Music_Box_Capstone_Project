{
 "cells": [
  {
   "cell_type": "code",
   "execution_count": 2,
   "metadata": {},
   "outputs": [],
   "source": [
    "'''\n",
    "This script concatenate ~50 csv file into a 15.8 csv file. And because  the  size of data is tool big, we process it in Spark. \n",
    "author: Yue Wen\n",
    "'''\n",
    "#import necessary library\n",
    "import os \n",
    "import pandas as pd\n",
    "from os import listdir\n",
    "from os.path import isfile, join\n",
    "import datetime\n",
    "import random"
   ]
  },
  {
   "cell_type": "code",
   "execution_count": 73,
   "metadata": {
    "collapsed": true
   },
   "outputs": [],
   "source": [
    "#catch all the file name in the foler play\n",
    "mypath = \"C:/Users/yw2892/Downloads/play/\"\n",
    "files = [f for f in listdir(mypath) if isfile(join(mypath, f))]\n",
    "\n",
    "# store all the csv file in a list \n",
    "df_list = []\n",
    "for file_name in files:\n",
    "    df = pd.read_csv('C:/Users/yw2892/Downloads/play/{}'.format(file_name),delimiter='\\t',header=None,index_col=None,names=schema,\n",
    "                          encoding = \"latin1\")\n",
    "    df[\"file_name\"] = file_name\n",
    "    df_list.append(df)  "
   ]
  },
  {
   "cell_type": "code",
   "execution_count": 87,
   "metadata": {
    "scrolled": true
   },
   "outputs": [
    {
     "data": {
      "text/html": [
       "<div>\n",
       "<table border=\"1\" class=\"dataframe\">\n",
       "  <thead>\n",
       "    <tr style=\"text-align: right;\">\n",
       "      <th></th>\n",
       "      <th>uid</th>\n",
       "      <th>device</th>\n",
       "      <th>song_id</th>\n",
       "      <th>song_type</th>\n",
       "      <th>song_name</th>\n",
       "      <th>singer</th>\n",
       "      <th>play_time</th>\n",
       "      <th>song_length</th>\n",
       "      <th>paid_flag</th>\n",
       "      <th>file_name</th>\n",
       "    </tr>\n",
       "  </thead>\n",
       "  <tbody>\n",
       "    <tr>\n",
       "      <th>0</th>\n",
       "      <td>264715</td>\n",
       "      <td>NaN</td>\n",
       "      <td>NaN</td>\n",
       "      <td>NaN</td>\n",
       "      <td>NaN</td>\n",
       "      <td>NaN</td>\n",
       "      <td>NaN</td>\n",
       "      <td>NaN</td>\n",
       "      <td>NaN</td>\n",
       "      <td>20170302_1_play.log</td>\n",
       "    </tr>\n",
       "    <tr>\n",
       "      <th>1</th>\n",
       "      <td>292363</td>\n",
       "      <td>NaN</td>\n",
       "      <td>NaN</td>\n",
       "      <td>NaN</td>\n",
       "      <td>NaN</td>\n",
       "      <td>NaN</td>\n",
       "      <td>NaN</td>\n",
       "      <td>NaN</td>\n",
       "      <td>NaN</td>\n",
       "      <td>20170302_1_play.log</td>\n",
       "    </tr>\n",
       "    <tr>\n",
       "      <th>2</th>\n",
       "      <td>1.54825e+08</td>\n",
       "      <td>ar</td>\n",
       "      <td>3300104</td>\n",
       "      <td>0</td>\n",
       "      <td>Not A Love Song</td>\n",
       "      <td>Bean</td>\n",
       "      <td>22</td>\n",
       "      <td>178</td>\n",
       "      <td>0</td>\n",
       "      <td>20170302_1_play.log</td>\n",
       "    </tr>\n",
       "    <tr>\n",
       "      <th>3</th>\n",
       "      <td>1.54432e+08</td>\n",
       "      <td>ar</td>\n",
       "      <td>6651913</td>\n",
       "      <td>0</td>\n",
       "      <td>åè§åªæ¯éçäºº</td>\n",
       "      <td>åºå¿å¦</td>\n",
       "      <td>252</td>\n",
       "      <td>251</td>\n",
       "      <td>0</td>\n",
       "      <td>20170302_1_play.log</td>\n",
       "    </tr>\n",
       "    <tr>\n",
       "      <th>4</th>\n",
       "      <td>1.54439e+08</td>\n",
       "      <td>ar</td>\n",
       "      <td>20870987</td>\n",
       "      <td>0</td>\n",
       "      <td>å¥å¥</td>\n",
       "      <td>å¼ æ°</td>\n",
       "      <td>358</td>\n",
       "      <td>358</td>\n",
       "      <td>0</td>\n",
       "      <td>20170302_1_play.log</td>\n",
       "    </tr>\n",
       "  </tbody>\n",
       "</table>\n",
       "</div>"
      ],
      "text/plain": [
       "           uid device    song_id song_type               song_name  \\\n",
       "0       264715    NaN        NaN       NaN                     NaN   \n",
       "1       292363    NaN        NaN       NaN                     NaN   \n",
       "2  1.54825e+08    ar    3300104         0         Not A Love Song    \n",
       "3  1.54432e+08    ar    6651913         0   åè§åªæ¯éçäºº    \n",
       "4  1.54439e+08    ar   20870987         0                  å¥å¥    \n",
       "\n",
       "       singer play_time song_length paid_flag            file_name  \n",
       "0         NaN       NaN         NaN       NaN  20170302_1_play.log  \n",
       "1         NaN       NaN         NaN       NaN  20170302_1_play.log  \n",
       "2       Bean        22         178          0  20170302_1_play.log  \n",
       "3  åºå¿å¦       252         251          0  20170302_1_play.log  \n",
       "4     å¼ æ°       358         358          0  20170302_1_play.log  "
      ]
     },
     "execution_count": 87,
     "metadata": {},
     "output_type": "execute_result"
    }
   ],
   "source": [
    "# concatenate the file and save it \n",
    "concat_df = pd.concat(df_list,axis = 0)\n",
    "concat_df.to_csv(\"concat_play.csv\")\n",
    "\n",
    "concat_df.head() "
   ]
  },
  {
   "cell_type": "markdown",
   "metadata": {},
   "source": [
    "# some stats about the concatenated dataframe"
   ]
  },
  {
   "cell_type": "code",
   "execution_count": 93,
   "metadata": {},
   "outputs": [
    {
     "data": {
      "text/plain": [
       "(161050959, 10)"
      ]
     },
     "execution_count": 93,
     "metadata": {},
     "output_type": "execute_result"
    }
   ],
   "source": [
    "concat_df.shape"
   ]
  },
  {
   "cell_type": "code",
   "execution_count": 92,
   "metadata": {
    "scrolled": false
   },
   "outputs": [
    {
     "data": {
      "text/plain": [
       "2878454"
      ]
     },
     "execution_count": 92,
     "metadata": {},
     "output_type": "execute_result"
    }
   ],
   "source": [
    "len(concat_df[\"song_id\"].unique())"
   ]
  },
  {
   "cell_type": "code",
   "execution_count": 91,
   "metadata": {
    "scrolled": false
   },
   "outputs": [
    {
     "data": {
      "text/plain": [
       "806145"
      ]
     },
     "execution_count": 91,
     "metadata": {},
     "output_type": "execute_result"
    }
   ],
   "source": [
    "len(concat_df[\"uid\"].unique())"
   ]
  }
 ],
 "metadata": {
  "celltoolbar": "Raw Cell Format",
  "kernelspec": {
   "display_name": "Python 3",
   "language": "python",
   "name": "python3"
  },
  "language_info": {
   "codemirror_mode": {
    "name": "ipython",
    "version": 3
   },
   "file_extension": ".py",
   "mimetype": "text/x-python",
   "name": "python",
   "nbconvert_exporter": "python",
   "pygments_lexer": "ipython3",
   "version": "3.6.2"
  }
 },
 "nbformat": 4,
 "nbformat_minor": 2
}
