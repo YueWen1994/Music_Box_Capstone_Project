{
 "cells": [
  {
   "cell_type": "code",
   "execution_count": 1,
   "metadata": {
    "collapsed": true
   },
   "outputs": [],
   "source": [
    "'''\n",
    "Script to perform feature engineering on data set from the data we process using Spark\n",
    "author: Yue Wen\n",
    "'''\n",
    "# import necessary library\n",
    "import pandas as pd \n",
    "import numpy as np\n",
    "import matplotlib.pyplot as plt\n",
    "\n",
    "# read data\n",
    "data = pd.read_csv(\"data.csv\")\n",
    "del data[\"Unnamed: 0\"]"
   ]
  },
  {
   "cell_type": "code",
   "execution_count": 24,
   "metadata": {
    "scrolled": true
   },
   "outputs": [
    {
     "data": {
      "text/plain": [
       "count    610629.000000\n",
       "mean          0.675718\n",
       "std           0.468106\n",
       "min           0.000000\n",
       "25%           0.000000\n",
       "50%           1.000000\n",
       "75%           1.000000\n",
       "max           1.000000\n",
       "Name: churn, dtype: float64"
      ]
     },
     "execution_count": 24,
     "metadata": {},
     "output_type": "execute_result"
    }
   ],
   "source": [
    "# build label\n",
    "\n",
    "#use last_n_cnt to build label, the cnt of the songs listened at the last 8 days\n",
    "data[\"churn\"] = np.where(data.last_n_cnt>0,0,1)\n",
    "# then delete the feature\n",
    "del data[\"last_n_cnt\"]\n",
    "data.churn.describe()"
   ]
  },
  {
   "cell_type": "code",
   "execution_count": 33,
   "metadata": {
    "collapsed": true
   },
   "outputs": [],
   "source": [
    "# song type entropy: Calculate song type entropy\n",
    "\n",
    "def entropy(p0,p1,p2):\n",
    "    \"\"\"\n",
    "    calculated the entropy of multivariate distribution with three variables \n",
    "    \n",
    "    Params\n",
    "    ------\n",
    "    p0, p1, p2: float\n",
    "    \n",
    "    Returns\n",
    "    -------\n",
    "    float\n",
    "    \"\"\"\n",
    "    not_zero = [i for i in (p0,p1,p2) if i > 0.0]\n",
    "    result = -sum(np.log(np.array(not_zero))*not_zero)\n",
    "    return result\n",
    "\n",
    "#calculate percentage of song for each type\n",
    "data[\"type0_perc\"] = data[\"type0_cnt\"]/(data[\"type0_cnt\"]+data[\"type1_cnt\"]+data[\"type2_cnt\"])\n",
    "data[\"type1_perc\"] = data[\"type1_cnt\"]/(data[\"type0_cnt\"]+data[\"type1_cnt\"]+data[\"type2_cnt\"])\n",
    "data[\"type2_perc\"] = data[\"type2_cnt\"]/(data[\"type0_cnt\"]+data[\"type1_cnt\"]+data[\"type2_cnt\"])\n",
    "# delete used features\n",
    "del data[\"type0_cnt\"]\n",
    "del data[\"type1_cnt\"]\n",
    "del data[\"type2_cnt\"]\n",
    "\n",
    "data[\"song_type_entropy\"] = data.apply(lambda x: entropy(x.type0_perc,x.type1_perc,x.type2_perc,),1)"
   ]
  },
  {
   "cell_type": "code",
   "execution_count": 40,
   "metadata": {},
   "outputs": [
    {
     "name": "stderr",
     "output_type": "stream",
     "text": [
      "C:\\Program Files\\Anaconda3\\lib\\site-packages\\ipykernel\\__main__.py:1: SettingWithCopyWarning: \n",
      "A value is trying to be set on a copy of a slice from a DataFrame.\n",
      "Try using .loc[row_indexer,col_indexer] = value instead\n",
      "\n",
      "See the caveats in the documentation: http://pandas.pydata.org/pandas-docs/stable/indexing.html#indexing-view-versus-copy\n",
      "  if __name__ == '__main__':\n",
      "C:\\Program Files\\Anaconda3\\lib\\site-packages\\ipykernel\\__main__.py:2: SettingWithCopyWarning: \n",
      "A value is trying to be set on a copy of a slice from a DataFrame.\n",
      "Try using .loc[row_indexer,col_indexer] = value instead\n",
      "\n",
      "See the caveats in the documentation: http://pandas.pydata.org/pandas-docs/stable/indexing.html#indexing-view-versus-copy\n",
      "  from ipykernel import kernelapp as app\n"
     ]
    }
   ],
   "source": [
    "# build other fatures based on windoes count\n",
    "data[\"period_3_no_behavior\"] = np.where(data.p3_cnt==0,1,0)\n",
    "data[\"period_23_no_behavior\"] = np.where((data.p3_cnt==0)&(data.p2_cnt==0),1,0)"
   ]
  },
  {
   "cell_type": "code",
   "execution_count": 42,
   "metadata": {
    "collapsed": true
   },
   "outputs": [],
   "source": [
    "def change_perc(prev,cur):\n",
    "    '''\n",
    "    calculate change percentage from prevrious number to curnumber\n",
    "    \n",
    "    Params\n",
    "    ------\n",
    "    prev: float\n",
    "    cur: float\n",
    "    \n",
    "    Returns\n",
    "    -------\n",
    "    float\n",
    "    '''\n",
    "    if (prev == 0 and cur==0):\n",
    "        return 0\n",
    "    if (prev == 0 and cur >0):\n",
    "        return 1\n",
    "    return (cur -prev )/prev\n",
    "\n",
    "\n",
    "data[\"2to3_change_perc\"] = data.apply(\n",
    "                                        lambda x: change_perc(x.p2_cnt,x.p3_cnt),1)\n",
    "\n",
    "data[\"1to2_change_perc\"] = data.apply(\n",
    "                                     lambda x: change_perc(x.p1_cnt,x.p2_cnt),1)\n",
    "\n",
    "# encode categorical type\n",
    "data[\"device\"] = np.where(data[\"device\"] == ' ar',1,0)"
   ]
  },
  {
   "cell_type": "code",
   "execution_count": 50,
   "metadata": {},
   "outputs": [
    {
     "name": "stderr",
     "output_type": "stream",
     "text": [
      "C:\\Program Files\\Anaconda3\\lib\\site-packages\\ipykernel\\__main__.py:3: SettingWithCopyWarning: \n",
      "A value is trying to be set on a copy of a slice from a DataFrame.\n",
      "Try using .loc[row_indexer,col_indexer] = value instead\n",
      "\n",
      "See the caveats in the documentation: http://pandas.pydata.org/pandas-docs/stable/indexing.html#indexing-view-versus-copy\n",
      "  app.launch_new_instance()\n"
     ]
    }
   ],
   "source": [
    "# move the position of churn to last column\n",
    "churn = data[\"churn\"]\n",
    "del data[\"churn\"]\n",
    "data[\"churn\"] = churn\n",
    "# save the final data to csv file\n",
    "data.to_csv(\"final_data.csv\")"
   ]
  }
 ],
 "metadata": {
  "kernelspec": {
   "display_name": "Python 3",
   "language": "python",
   "name": "python3"
  },
  "language_info": {
   "codemirror_mode": {
    "name": "ipython",
    "version": 3
   },
   "file_extension": ".py",
   "mimetype": "text/x-python",
   "name": "python",
   "nbconvert_exporter": "python",
   "pygments_lexer": "ipython3",
   "version": "3.6.2"
  }
 },
 "nbformat": 4,
 "nbformat_minor": 2
}
