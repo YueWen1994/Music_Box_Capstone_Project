{
 "cells": [
  {
   "cell_type": "code",
   "execution_count": 2,
   "metadata": {
    "collapsed": true
   },
   "outputs": [],
   "source": [
    "'''\n",
    "This script build logsitc regression/ RF/GBT/NN models for the logistic regression model/RF/gradient boosting/Neural Network model\n",
    "Author: Yue Wen\n",
    "\n",
    "'''\n",
    "import pandas as pd\n",
    "import numpy as np\n",
    "from sklearn.cross_validation import train_test_split\n",
    "import matplotlib.pyplot as plt\n",
    "\n",
    "#read the processed data\n",
    "feature_matrix = pd.read_csv(\"final_data.csv\")\n",
    "del feature_matrix[\"Unnamed: 0\"]"
   ]
  },
  {
   "cell_type": "markdown",
   "metadata": {},
   "source": [
    "### prepare feature matrix"
   ]
  },
  {
   "cell_type": "code",
   "execution_count": 4,
   "metadata": {
    "collapsed": true
   },
   "outputs": [],
   "source": [
    "# out of 2 standard deviation\n",
    "feature_matrix[\"2to3_change_perc\"].std() # around 10%\n",
    "# define decrease/incerease out of two standard deviation as big decrease\n",
    "feature_matrix[\"2to3_big_decrease\"] =  np.where(feature_matrix[\"2to3_change_perc\"] < -0.2,1,0)\n",
    "feature_matrix[\"1to2_big_decrease\"] = np.where(feature_matrix[\"1to2_change_perc\"] < -0.2,1,0)"
   ]
  },
  {
   "cell_type": "code",
   "execution_count": 6,
   "metadata": {},
   "outputs": [
    {
     "data": {
      "text/html": [
       "<div>\n",
       "<style>\n",
       "    .dataframe thead tr:only-child th {\n",
       "        text-align: right;\n",
       "    }\n",
       "\n",
       "    .dataframe thead th {\n",
       "        text-align: left;\n",
       "    }\n",
       "\n",
       "    .dataframe tbody tr th {\n",
       "        vertical-align: top;\n",
       "    }\n",
       "</style>\n",
       "<table border=\"1\" class=\"dataframe\">\n",
       "  <thead>\n",
       "    <tr style=\"text-align: right;\">\n",
       "      <th></th>\n",
       "      <th>uid</th>\n",
       "      <th>device</th>\n",
       "      <th>p1_cnt</th>\n",
       "      <th>p2_cnt</th>\n",
       "      <th>p3_cnt</th>\n",
       "      <th>type0_perc</th>\n",
       "      <th>type1_perc</th>\n",
       "      <th>type2_perc</th>\n",
       "      <th>song_type_entropy</th>\n",
       "      <th>period_3_no_behavior</th>\n",
       "      <th>period_23_no_behavior</th>\n",
       "      <th>2to3_change_perc</th>\n",
       "      <th>1to2_change_perc</th>\n",
       "      <th>2to3_big_decrease</th>\n",
       "      <th>1to2_big_decrease</th>\n",
       "      <th>churn</th>\n",
       "    </tr>\n",
       "  </thead>\n",
       "  <tbody>\n",
       "    <tr>\n",
       "      <th>0</th>\n",
       "      <td>168550571.0</td>\n",
       "      <td>1</td>\n",
       "      <td>57</td>\n",
       "      <td>47</td>\n",
       "      <td>0</td>\n",
       "      <td>0.576923</td>\n",
       "      <td>0.423077</td>\n",
       "      <td>0.000000</td>\n",
       "      <td>0.681266</td>\n",
       "      <td>1</td>\n",
       "      <td>0</td>\n",
       "      <td>-1.000000</td>\n",
       "      <td>-0.175439</td>\n",
       "      <td>1</td>\n",
       "      <td>0</td>\n",
       "      <td>1</td>\n",
       "    </tr>\n",
       "    <tr>\n",
       "      <th>1</th>\n",
       "      <td>168551392.0</td>\n",
       "      <td>1</td>\n",
       "      <td>106</td>\n",
       "      <td>166</td>\n",
       "      <td>36</td>\n",
       "      <td>1.000000</td>\n",
       "      <td>0.000000</td>\n",
       "      <td>0.000000</td>\n",
       "      <td>-0.000000</td>\n",
       "      <td>0</td>\n",
       "      <td>0</td>\n",
       "      <td>-0.783133</td>\n",
       "      <td>0.566038</td>\n",
       "      <td>1</td>\n",
       "      <td>0</td>\n",
       "      <td>1</td>\n",
       "    </tr>\n",
       "    <tr>\n",
       "      <th>2</th>\n",
       "      <td>168550793.0</td>\n",
       "      <td>1</td>\n",
       "      <td>47</td>\n",
       "      <td>0</td>\n",
       "      <td>62</td>\n",
       "      <td>0.601010</td>\n",
       "      <td>0.398990</td>\n",
       "      <td>0.000000</td>\n",
       "      <td>0.672600</td>\n",
       "      <td>0</td>\n",
       "      <td>0</td>\n",
       "      <td>1.000000</td>\n",
       "      <td>-1.000000</td>\n",
       "      <td>0</td>\n",
       "      <td>1</td>\n",
       "      <td>0</td>\n",
       "    </tr>\n",
       "    <tr>\n",
       "      <th>3</th>\n",
       "      <td>168547001.0</td>\n",
       "      <td>1</td>\n",
       "      <td>159</td>\n",
       "      <td>84</td>\n",
       "      <td>297</td>\n",
       "      <td>0.998485</td>\n",
       "      <td>0.000000</td>\n",
       "      <td>0.001515</td>\n",
       "      <td>0.011351</td>\n",
       "      <td>0</td>\n",
       "      <td>0</td>\n",
       "      <td>2.535714</td>\n",
       "      <td>-0.471698</td>\n",
       "      <td>0</td>\n",
       "      <td>1</td>\n",
       "      <td>0</td>\n",
       "    </tr>\n",
       "    <tr>\n",
       "      <th>4</th>\n",
       "      <td>21940901.0</td>\n",
       "      <td>1</td>\n",
       "      <td>599</td>\n",
       "      <td>777</td>\n",
       "      <td>0</td>\n",
       "      <td>0.998612</td>\n",
       "      <td>0.000000</td>\n",
       "      <td>0.001388</td>\n",
       "      <td>0.010519</td>\n",
       "      <td>1</td>\n",
       "      <td>0</td>\n",
       "      <td>-1.000000</td>\n",
       "      <td>0.297162</td>\n",
       "      <td>1</td>\n",
       "      <td>0</td>\n",
       "      <td>0</td>\n",
       "    </tr>\n",
       "  </tbody>\n",
       "</table>\n",
       "</div>"
      ],
      "text/plain": [
       "           uid  device  p1_cnt  p2_cnt  p3_cnt  type0_perc  type1_perc  \\\n",
       "0  168550571.0       1      57      47       0    0.576923    0.423077   \n",
       "1  168551392.0       1     106     166      36    1.000000    0.000000   \n",
       "2  168550793.0       1      47       0      62    0.601010    0.398990   \n",
       "3  168547001.0       1     159      84     297    0.998485    0.000000   \n",
       "4   21940901.0       1     599     777       0    0.998612    0.000000   \n",
       "\n",
       "   type2_perc  song_type_entropy  period_3_no_behavior  period_23_no_behavior  \\\n",
       "0    0.000000           0.681266                     1                      0   \n",
       "1    0.000000          -0.000000                     0                      0   \n",
       "2    0.000000           0.672600                     0                      0   \n",
       "3    0.001515           0.011351                     0                      0   \n",
       "4    0.001388           0.010519                     1                      0   \n",
       "\n",
       "   2to3_change_perc  1to2_change_perc  2to3_big_decrease  1to2_big_decrease  \\\n",
       "0         -1.000000         -0.175439                  1                  0   \n",
       "1         -0.783133          0.566038                  1                  0   \n",
       "2          1.000000         -1.000000                  0                  1   \n",
       "3          2.535714         -0.471698                  0                  1   \n",
       "4         -1.000000          0.297162                  1                  0   \n",
       "\n",
       "   churn  \n",
       "0      1  \n",
       "1      1  \n",
       "2      0  \n",
       "3      0  \n",
       "4      0  "
      ]
     },
     "execution_count": 6,
     "metadata": {},
     "output_type": "execute_result"
    }
   ],
   "source": [
    "# put the churn to the last column\n",
    "churn = feature_matrix[\"churn\"]\n",
    "del feature_matrix[\"churn\"]\n",
    "feature_matrix[\"churn\"] = churn\n",
    "\n",
    "feature_matrix.head()"
   ]
  },
  {
   "cell_type": "code",
   "execution_count": 7,
   "metadata": {},
   "outputs": [
    {
     "data": {
      "text/plain": [
       "count    610629.000000\n",
       "mean          0.675718\n",
       "std           0.468106\n",
       "min           0.000000\n",
       "25%           0.000000\n",
       "50%           1.000000\n",
       "75%           1.000000\n",
       "max           1.000000\n",
       "Name: churn, dtype: float64"
      ]
     },
     "execution_count": 7,
     "metadata": {},
     "output_type": "execute_result"
    }
   ],
   "source": [
    "feature_matrix.churn.describe()"
   ]
  },
  {
   "cell_type": "code",
   "execution_count": 8,
   "metadata": {
    "collapsed": true
   },
   "outputs": [],
   "source": [
    "#remove outlier\n",
    "total_cnt = feature_matrix.apply(lambda x: x.p1_cnt +  x.p2_cnt + x.p3_cnt,1)\n",
    "total_cnt_sorted = total_cnt.sort_values()\n",
    "\n",
    "#remove outlier\n",
    "up_bound = np.percentile(total_cnt,99.5)\n",
    "outlier = feature_matrix.uid[  (total_cnt>= up_bound)]\n",
    "feature_matrix = feature_matrix[~feature_matrix.uid.isin(outlier)]"
   ]
  },
  {
   "cell_type": "code",
   "execution_count": 11,
   "metadata": {
    "collapsed": true
   },
   "outputs": [],
   "source": [
    "# train, test split \n",
    "X = feature_matrix.iloc[:,1:-1].values\n",
    "\n",
    "y = feature_matrix[\"churn\"].values\n",
    "\n",
    "X_train, X_test, y_train, y_test = train_test_split(X, y, test_size = 0.2, random_state = 1)"
   ]
  },
  {
   "cell_type": "markdown",
   "metadata": {},
   "source": [
    "### Logistic regression"
   ]
  },
  {
   "cell_type": "code",
   "execution_count": 28,
   "metadata": {},
   "outputs": [
    {
     "data": {
      "text/plain": [
       "LogisticRegression(C=1.0, class_weight=None, dual=False, fit_intercept=True,\n",
       "          intercept_scaling=1, max_iter=100, multi_class='ovr', n_jobs=1,\n",
       "          penalty='l2', random_state=None, solver='liblinear', tol=0.0001,\n",
       "          verbose=0, warm_start=False)"
      ]
     },
     "execution_count": 28,
     "metadata": {},
     "output_type": "execute_result"
    }
   ],
   "source": [
    "# logistic regreesion\n",
    "from sklearn.linear_model import LogisticRegression\n",
    "\n",
    "model_lrc = LogisticRegression(fit_intercept=True)\n",
    "model_lrc.fit(X_train,y_train)"
   ]
  },
  {
   "cell_type": "code",
   "execution_count": 169,
   "metadata": {
    "scrolled": false
   },
   "outputs": [
    {
     "data": {
      "text/plain": [
       "0.82707111304595415"
      ]
     },
     "execution_count": 169,
     "metadata": {},
     "output_type": "execute_result"
    }
   ],
   "source": [
    "model_lrc.score(X_train,y_train)"
   ]
  },
  {
   "cell_type": "code",
   "execution_count": 170,
   "metadata": {
    "scrolled": true
   },
   "outputs": [
    {
     "data": {
      "text/plain": [
       "0.82633490137822896"
      ]
     },
     "execution_count": 170,
     "metadata": {},
     "output_type": "execute_result"
    }
   ],
   "source": [
    "model_lrc.score(X_test,y_test)"
   ]
  },
  {
   "cell_type": "code",
   "execution_count": 209,
   "metadata": {},
   "outputs": [
    {
     "data": {
      "text/plain": [
       "0.88731341687445009"
      ]
     },
     "execution_count": 209,
     "metadata": {},
     "output_type": "execute_result"
    }
   ],
   "source": [
    "y_test_pred_lrc = model_lrc.predict_proba(X_test)[:,1]\n",
    "roc_auc_score(y_test,y_test_pred_lrc)"
   ]
  },
  {
   "cell_type": "markdown",
   "metadata": {},
   "source": [
    "### Random Forest Classifier"
   ]
  },
  {
   "cell_type": "code",
   "execution_count": 12,
   "metadata": {
    "scrolled": true
   },
   "outputs": [
    {
     "data": {
      "text/plain": [
       "RandomForestClassifier(bootstrap=True, class_weight=None, criterion='gini',\n",
       "            max_depth=None, max_features='auto', max_leaf_nodes=None,\n",
       "            min_impurity_decrease=0.0, min_impurity_split=None,\n",
       "            min_samples_leaf=10, min_samples_split=2,\n",
       "            min_weight_fraction_leaf=0.0, n_estimators=50, n_jobs=1,\n",
       "            oob_score=False, random_state=0, verbose=0, warm_start=False)"
      ]
     },
     "execution_count": 12,
     "metadata": {},
     "output_type": "execute_result"
    }
   ],
   "source": [
    "from sklearn.ensemble import RandomForestClassifier\n",
    "\n",
    "model_rfc = RandomForestClassifier(max_depth = None, n_estimators = 50, min_samples_leaf = 10,random_state = 0)\n",
    "model_rfc.fit(X_train, y_train)"
   ]
  },
  {
   "cell_type": "code",
   "execution_count": 172,
   "metadata": {},
   "outputs": [
    {
     "data": {
      "text/plain": [
       "0.85939147353196654"
      ]
     },
     "execution_count": 172,
     "metadata": {},
     "output_type": "execute_result"
    }
   ],
   "source": [
    "model_rfc.score(X_train, y_train)"
   ]
  },
  {
   "cell_type": "code",
   "execution_count": 173,
   "metadata": {
    "scrolled": true
   },
   "outputs": [
    {
     "data": {
      "text/plain": [
       "0.84114054633985313"
      ]
     },
     "execution_count": 173,
     "metadata": {},
     "output_type": "execute_result"
    }
   ],
   "source": [
    "model_rfc.score(X_test, y_test)"
   ]
  },
  {
   "cell_type": "code",
   "execution_count": 210,
   "metadata": {
    "collapsed": true
   },
   "outputs": [],
   "source": [
    "y_test_pred_prob = model_rfc.predict_proba(X_test)[:,1]"
   ]
  },
  {
   "cell_type": "code",
   "execution_count": 211,
   "metadata": {},
   "outputs": [
    {
     "data": {
      "text/plain": [
       "0.90070398386209627"
      ]
     },
     "execution_count": 211,
     "metadata": {},
     "output_type": "execute_result"
    }
   ],
   "source": [
    "roc_auc_score(y_test,y_test_pred_prob)"
   ]
  },
  {
   "cell_type": "code",
   "execution_count": 25,
   "metadata": {
    "collapsed": true
   },
   "outputs": [],
   "source": [
    "importances =model_rfc.feature_importances_ \n",
    "importances = pd.Series(importances, index = list(feature_matrix.columns)[1:-1])\n",
    "importances = importances.sort_values(ascending = False)"
   ]
  },
  {
   "cell_type": "code",
   "execution_count": 26,
   "metadata": {},
   "outputs": [
    {
     "data": {
      "text/plain": [
       "period_3_no_behavior     0.261609\n",
       "p3_cnt                   0.212732\n",
       "1to2_change_perc         0.126149\n",
       "2to3_change_perc         0.099190\n",
       "p2_cnt                   0.098728\n",
       "period_23_no_behavior    0.072462\n",
       "p1_cnt                   0.053572\n",
       "song_type_entropy        0.020661\n",
       "type0_perc               0.019587\n",
       "type1_perc               0.012881\n",
       "2to3_big_decrease        0.009842\n",
       "device                   0.005628\n",
       "type2_perc               0.004912\n",
       "1to2_big_decrease        0.002047\n",
       "dtype: float64"
      ]
     },
     "execution_count": 26,
     "metadata": {},
     "output_type": "execute_result"
    }
   ],
   "source": [
    "importances"
   ]
  },
  {
   "cell_type": "markdown",
   "metadata": {},
   "source": [
    "### Gradient boosting classifier"
   ]
  },
  {
   "cell_type": "code",
   "execution_count": 175,
   "metadata": {},
   "outputs": [
    {
     "data": {
      "text/plain": [
       "GradientBoostingClassifier(criterion='friedman_mse', init=None,\n",
       "              learning_rate=0.1, loss='deviance', max_depth=5,\n",
       "              max_features=None, max_leaf_nodes=None,\n",
       "              min_impurity_decrease=0.0, min_impurity_split=None,\n",
       "              min_samples_leaf=1, min_samples_split=2,\n",
       "              min_weight_fraction_leaf=0.0, n_estimators=200,\n",
       "              presort='auto', random_state=None, subsample=1.0, verbose=0,\n",
       "              warm_start=False)"
      ]
     },
     "execution_count": 175,
     "metadata": {},
     "output_type": "execute_result"
    }
   ],
   "source": [
    "from sklearn.ensemble import GradientBoostingClassifier\n",
    "\n",
    "model_gbt = GradientBoostingClassifier(n_estimators=200, max_depth=5)\n",
    "\n",
    "model_gbt.fit(X_train, y_train)"
   ]
  },
  {
   "cell_type": "code",
   "execution_count": 176,
   "metadata": {},
   "outputs": [
    {
     "data": {
      "text/plain": [
       "0.84368623356902195"
      ]
     },
     "execution_count": 176,
     "metadata": {},
     "output_type": "execute_result"
    }
   ],
   "source": [
    "model_gbt.score(X_train, y_train)"
   ]
  },
  {
   "cell_type": "code",
   "execution_count": 177,
   "metadata": {},
   "outputs": [
    {
     "data": {
      "text/plain": [
       "0.84164397128001978"
      ]
     },
     "execution_count": 177,
     "metadata": {},
     "output_type": "execute_result"
    }
   ],
   "source": [
    "model_gbt.score(X_test, y_test)"
   ]
  },
  {
   "cell_type": "code",
   "execution_count": 208,
   "metadata": {},
   "outputs": [
    {
     "data": {
      "text/plain": [
       "0.90078136250657215"
      ]
     },
     "execution_count": 208,
     "metadata": {},
     "output_type": "execute_result"
    }
   ],
   "source": [
    "y_test_pred_gbc = model_gbt.predict_proba(X_test)[:,1]\n",
    "roc_auc_score(y_test,y_test_pred_gbc)"
   ]
  },
  {
   "cell_type": "markdown",
   "metadata": {},
   "source": [
    "### Neural network"
   ]
  },
  {
   "cell_type": "code",
   "execution_count": 16,
   "metadata": {
    "collapsed": true
   },
   "outputs": [],
   "source": [
    "import tensorflow as tf"
   ]
  },
  {
   "cell_type": "code",
   "execution_count": 181,
   "metadata": {
    "collapsed": true
   },
   "outputs": [
    {
     "name": "stdout",
     "output_type": "stream",
     "text": [
      "epoch 1: valid acc = 0.7991499304771423\n",
      "epoch 2: valid acc = 0.8018898963928223\n",
      "epoch 3: valid acc = 0.8080548048019409\n",
      "epoch 4: valid acc = 0.8161261081695557\n",
      "epoch 5: valid acc = 0.8211438655853271\n",
      "epoch 6: valid acc = 0.8259057402610779\n",
      "epoch 7: valid acc = 0.8287364840507507\n",
      "epoch 8: valid acc = 0.8293554782867432\n",
      "epoch 9: valid acc = 0.8266814947128296\n",
      "epoch 10: valid acc = 0.8272014260292053\n",
      "epoch 11: valid acc = 0.8295617699623108\n",
      "epoch 12: valid acc = 0.8290418386459351\n",
      "epoch 13: valid acc = 0.8300156593322754\n",
      "epoch 14: valid acc = 0.8294544816017151\n",
      "epoch 15: valid acc = 0.8302302360534668\n",
      "epoch 16: valid acc = 0.8302632570266724\n",
      "epoch 17: valid acc = 0.8301064372062683\n",
      "epoch 18: valid acc = 0.8301889896392822\n",
      "epoch 19: valid acc = 0.8302632570266724\n",
      "epoch 20: valid acc = 0.8301972150802612\n",
      "test acc = 0.8301972150802612\n"
     ]
    }
   ],
   "source": [
    "hidden_dim = 100\n",
    "reg_tf = tf.constant(0.01)\n",
    "input_dim = 14\n",
    "learning_rate = 1e-2\n",
    "epoch_num = 20\n",
    "\n",
    "x_tf = tf.placeholder(tf.float32, shape=(None, input_dim))\n",
    "y_tf = tf.placeholder(tf.int64, shape=(None,))\n",
    "\n",
    "W1_tf = tf.Variable(1e-2*np.random.rand(input_dim, hidden_dim).astype('float32'))\n",
    "b1_tf = tf.Variable(np.zeros((hidden_dim,)).astype('float32'))\n",
    "W2_tf = tf.Variable(1e-2*np.random.rand(hidden_dim, 2).astype('float32'))\n",
    "b2_tf = tf.Variable(np.zeros((2,)).astype('float32'))\n",
    "# xw +b -> relu\n",
    "h1_tf = tf.nn.relu(tf.matmul(x_tf, W1_tf) + b1_tf)\n",
    "#matmul:  matrix multiplier \n",
    "h2_tf = tf.matmul(h1_tf, W2_tf) + b2_tf\n",
    "cross_entropy = tf.nn.softmax_cross_entropy_with_logits(logits= h2_tf, labels=tf.one_hot(y_tf,2))\n",
    "L2_loss = tf.nn.l2_loss(W1_tf) + tf.nn.l2_loss(W2_tf)\n",
    "loss_tf = tf.reduce_mean(cross_entropy) + reg_tf*L2_loss \n",
    "\n",
    "init = tf.global_variables_initializer()\n",
    "train_step = tf.train.GradientDescentOptimizer(learning_rate).minimize(loss_tf)\n",
    "correct_prediction = tf.equal(y_tf, tf.argmax(h2_tf,1))\n",
    "accuracy = tf.reduce_mean(tf.cast(correct_prediction, tf.float32))\n",
    "\n",
    "num_train = 488503\n",
    "batch_size = 1000\n",
    "num_batch = num_train//batch_size\n",
    "with tf.Session() as sess:\n",
    "    sess.run(init)\n",
    "    for e in range(epoch_num):\n",
    "        for i in range(num_batch):\n",
    "            batch_xs, batch_ys = X_train[i*batch_size:(i+1)*batch_size], y_train[i*batch_size:(i+1)*batch_size]\n",
    "            sess.run(train_step, feed_dict={x_tf: batch_xs, y_tf: batch_ys})\n",
    "        val_acc = sess.run(accuracy, feed_dict={x_tf: X_test, y_tf: y_test})\n",
    "        print('epoch {}: valid acc = {}'.format(e+1, val_acc))\n",
    "    \n",
    "    y_pred_nn = sess.run(tf.argmax(h2_tf,1),feed_dict={x_tf: X_test, y_tf: y_test})\n",
    "    test_acc = sess.run(accuracy, feed_dict={x_tf: X_test, y_tf: y_test})\n",
    "    print('test acc = {}'.format(test_acc))"
   ]
  },
  {
   "cell_type": "code",
   "execution_count": 203,
   "metadata": {},
   "outputs": [
    {
     "name": "stdout",
     "output_type": "stream",
     "text": [
      "epoch 1: valid acc = 0.7991747260093689\n",
      "epoch 2: valid acc = 0.8015432953834534\n",
      "epoch 3: valid acc = 0.8082363605499268\n",
      "epoch 4: valid acc = 0.8158785104751587\n",
      "epoch 5: valid acc = 0.8214657306671143\n",
      "epoch 6: valid acc = 0.8263431787490845\n",
      "epoch 7: valid acc = 0.8293224573135376\n",
      "epoch 8: valid acc = 0.8284229040145874\n",
      "epoch 9: valid acc = 0.8261615633964539\n",
      "epoch 10: valid acc = 0.8272757530212402\n",
      "epoch 11: valid acc = 0.8286952376365662\n",
      "epoch 12: valid acc = 0.8296113014221191\n",
      "epoch 13: valid acc = 0.8302880525588989\n",
      "epoch 14: valid acc = 0.8297185897827148\n",
      "epoch 15: valid acc = 0.8299413919448853\n",
      "epoch 16: valid acc = 0.8299661874771118\n",
      "epoch 17: valid acc = 0.8304943442344666\n",
      "epoch 18: valid acc = 0.8307254314422607\n",
      "epoch 19: valid acc = 0.830717146396637\n",
      "epoch 20: valid acc = 0.8311710953712463\n",
      "test acc = 0.8311710953712463\n"
     ]
    }
   ],
   "source": [
    "hidden_dim = 100\n",
    "reg_tf = tf.constant(0.01)\n",
    "input_dim = 14\n",
    "learning_rate = 1e-2\n",
    "epoch_num = 20\n",
    "\n",
    "x_tf = tf.placeholder(tf.float32, shape=(None, input_dim))\n",
    "y_tf = tf.placeholder(tf.int64, shape=(None,))\n",
    "\n",
    "W1_tf = tf.Variable(1e-2*np.random.rand(input_dim, hidden_dim).astype('float32'))\n",
    "b1_tf = tf.Variable(np.zeros((hidden_dim,)).astype('float32'))\n",
    "W2_tf = tf.Variable(1e-2*np.random.rand(hidden_dim, 2).astype('float32'))\n",
    "b2_tf = tf.Variable(np.zeros((2,)).astype('float32'))\n",
    "# xw +b -> relu\n",
    "h1_tf = tf.nn.relu(tf.matmul(x_tf, W1_tf) + b1_tf)\n",
    "#matmul:  matrix multiplier \n",
    "h2_tf = tf.matmul(h1_tf, W2_tf) + b2_tf\n",
    "cross_entropy = tf.nn.softmax_cross_entropy_with_logits(logits= h2_tf, labels=tf.one_hot(y_tf,2))\n",
    "L2_loss = tf.nn.l2_loss(W1_tf) + tf.nn.l2_loss(W2_tf)\n",
    "loss_tf = tf.reduce_mean(cross_entropy) + reg_tf*L2_loss \n",
    "\n",
    "init = tf.global_variables_initializer()\n",
    "train_step = tf.train.GradientDescentOptimizer(learning_rate).minimize(loss_tf)\n",
    "correct_prediction = tf.equal(y_tf, tf.argmax(h2_tf,1))\n",
    "accuracy = tf.reduce_mean(tf.cast(correct_prediction, tf.float32))\n",
    "\n",
    "num_train = 488503\n",
    "batch_size = 1000\n",
    "num_batch = num_train//batch_size\n",
    "with tf.Session() as sess:\n",
    "    sess.run(init)\n",
    "    for e in range(epoch_num):\n",
    "        for i in range(num_batch):\n",
    "            batch_xs, batch_ys = X_train[i*batch_size:(i+1)*batch_size], y_train[i*batch_size:(i+1)*batch_size]\n",
    "            sess.run(train_step, feed_dict={x_tf: batch_xs, y_tf: batch_ys})\n",
    "        val_acc = sess.run(accuracy, feed_dict={x_tf: X_test, y_tf: y_test})\n",
    "        print('epoch {}: valid acc = {}'.format(e+1, val_acc))\n",
    "    \n",
    "    y_pred_nn = sess.run(tf.argmax(h2_tf,1),feed_dict={x_tf: X_test, y_tf: y_test})\n",
    "    test_acc = sess.run(accuracy, feed_dict={x_tf: X_test, y_tf: y_test})\n",
    "    print('test acc = {}'.format(test_acc))\n",
    "    "
   ]
  },
  {
   "cell_type": "markdown",
   "metadata": {},
   "source": [
    "## Pick the best model and examine other metrics"
   ]
  },
  {
   "cell_type": "code",
   "execution_count": 182,
   "metadata": {
    "collapsed": true
   },
   "outputs": [],
   "source": [
    "from  sklearn.metrics import precision_score, accuracy_score, recall_score, f1_score, roc_auc_score"
   ]
  },
  {
   "cell_type": "code",
   "execution_count": 28,
   "metadata": {},
   "outputs": [
    {
     "name": "stdout",
     "output_type": "stream",
     "text": [
      "\n",
      "Random Forest scores on test set:\n",
      "Accuracy of the model is 0.8411405463398531\n",
      "Precision of the model is 0.872367536190847\n",
      "Recall of the model is 0.8976472587772544\n",
      "f1-score of the model is 0.8848268723336783\n",
      "\n"
     ]
    }
   ],
   "source": [
    "def print_results(y_test, y_pred):\n",
    "    print(\"Accuracy of the model is {}\".format(accuracy_score(y_test,y_test_pred)))\n",
    "    print(\"Precision of the model is {}\".format(precision_score(y_test,y_test_pred)))\n",
    "    print(\"Recall of the model is {}\".format(recall_score(y_test,y_test_pred)))\n",
    "    print(\"f1-score of the model is {}\".format(f1_score(y_test,y_test_pred)))"
   ]
  },
  {
   "cell_type": "markdown",
   "metadata": {},
   "source": [
    "### confusion matrix"
   ]
  },
  {
   "cell_type": "code",
   "execution_count": 187,
   "metadata": {},
   "outputs": [
    {
     "name": "stdout",
     "output_type": "stream",
     "text": [
      "[[27980 10818]\n",
      " [ 8431 73941]]\n"
     ]
    },
    {
     "data": {
      "image/png": "[encoded data removed]",
      "text/plain": [
       "<matplotlib.figure.Figure at 0x8920b00>"
      ]
     },
     "metadata": {},
     "output_type": "display_data"
    }
   ],
   "source": [
    "# plot the confusion matrix for ranfom forest modeel\n",
    "from  sklearn.metrics import confusion_matrix, classification_report, roc_curve\n",
    "def plot_confusion_matrix(y_true,y_pred):\n",
    "    '''\n",
    "    Plot confusion matrix given the true/predicted value \n",
    "    '''\n",
    "    \n",
    "    cm = confusion_matrix(y_true,y_pred)\n",
    "    \n",
    "    print(cm)\n",
    "    \n",
    "    plt.matshow(cm)\n",
    "    plt.title(\"Confusion matrix\")\n",
    "    plt.colorbar()\n",
    "    plt.ylabel(\"True label\")\n",
    "    plt.xlabel(\"Predicted label\")\n",
    "    plt.show()\n",
    "\n",
    "plot_confusion_matrix(y_test,  y_test_pred)"
   ]
  },
  {
   "cell_type": "markdown",
   "metadata": {},
   "source": [
    "### AUC"
   ]
  },
  {
   "cell_type": "code",
   "execution_count": 215,
   "metadata": {
    "scrolled": true
   },
   "outputs": [
    {
     "name": "stdout",
     "output_type": "stream",
     "text": [
      "Area under Curve of the random forest model is 0.9007039838620963\n"
     ]
    }
   ],
   "source": [
    "print(\"Area under Curve of the random forest model is {}\".format(roc_auc_score(y_test,y_test_pred_prob)))"
   ]
  },
  {
   "cell_type": "code",
   "execution_count": 189,
   "metadata": {
    "scrolled": true
   },
   "outputs": [
    {
     "name": "stdout",
     "output_type": "stream",
     "text": [
      "             precision    recall  f1-score   support\n",
      "\n",
      "          0       0.77      0.72      0.74     38798\n",
      "          1       0.87      0.90      0.88     82372\n",
      "\n",
      "avg / total       0.84      0.84      0.84    121170\n",
      "\n"
     ]
    }
   ],
   "source": [
    "print(classification_report(y_test,y_test_pred))"
   ]
  },
  {
   "cell_type": "markdown",
   "metadata": {},
   "source": [
    "### optimize through thredsholds"
   ]
  },
  {
   "cell_type": "code",
   "execution_count": 194,
   "metadata": {},
   "outputs": [
    {
     "name": "stdout",
     "output_type": "stream",
     "text": [
      "when threshold is 0.4\n",
      "the accuracy rate is 0.834695056532\n",
      "when threshold is 0.41000000000000003\n",
      "the accuracy rate is 0.83586696377\n",
      "when threshold is 0.42000000000000004\n",
      "the accuracy rate is 0.836898572254\n",
      "when threshold is 0.43000000000000005\n",
      "the accuracy rate is 0.837880663531\n",
      "when threshold is 0.44\n",
      "the accuracy rate is 0.838738961789\n",
      "when threshold is 0.45\n",
      "the accuracy rate is 0.8390443179\n",
      "when threshold is 0.46\n",
      "the accuracy rate is 0.839630271519\n",
      "when threshold is 0.47000000000000003\n",
      "the accuracy rate is 0.839952133366\n",
      "when threshold is 0.48000000000000004\n",
      "the accuracy rate is 0.840463811174\n",
      "when threshold is 0.49\n",
      "the accuracy rate is 0.841132293472\n",
      "when threshold is 0.5\n",
      "the accuracy rate is 0.84114054634\n",
      "when threshold is 0.51\n",
      "the accuracy rate is 0.841214822151\n",
      "when threshold is 0.52\n",
      "the accuracy rate is 0.840958983247\n",
      "when threshold is 0.53\n",
      "the accuracy rate is 0.840967236115\n",
      "when threshold is 0.54\n",
      "the accuracy rate is 0.840711397211\n",
      "when threshold is 0.55\n",
      "the accuracy rate is 0.840158455063\n",
      "when threshold is 0.56\n",
      "the accuracy rate is 0.839754064537\n",
      "when threshold is 0.5700000000000001\n",
      "the accuracy rate is 0.839547742841\n",
      "when threshold is 0.5800000000000001\n",
      "the accuracy rate is 0.838738961789\n",
      "when threshold is 0.5900000000000001\n",
      "the accuracy rate is 0.837971445077\n"
     ]
    }
   ],
   "source": [
    "y_test_pred_prob  =  model_rfc.predict_proba(X_test)[:,1]\n",
    "# check the optimal threshold \n",
    "thresholds =  [ 0.1*i for i in range(9)]\n",
    "# calculate the corresponding accuracy given thredshold\n",
    "accuracy = []\n",
    "for threshold in thresholds:\n",
    "    y_dummy_pred = np.array(y_test_pred_prob>threshold).astype(int)\n",
    "    accuracy.append(np.mean(y_dummy_pred == y_test))\n",
    "\n",
    "thresholds =  [ 0.4 + 0.01*i for i in range(20)]\n",
    "accuracy = []\n",
    "for threshold in thresholds:\n",
    "    print(\"when threshold is\",threshold)\n",
    "    y_dummy_pred = np.array(y_test_pred_prob>threshold).astype(int)\n",
    "    accuracy.append(np.mean(y_dummy_pred == y_test))\n",
    "    print(\"the accuracy rate is\",np.mean(y_dummy_pred == y_test))"
   ]
  },
  {
   "cell_type": "markdown",
   "metadata": {},
   "source": [
    "### Plot ROC curve\n"
   ]
  },
  {
   "cell_type": "code",
   "execution_count": 195,
   "metadata": {
    "collapsed": true
   },
   "outputs": [],
   "source": [
    "fpr, tpr,  thresholds = roc_curve(y_test,y_test_pred_prob)"
   ]
  },
  {
   "cell_type": "code",
   "execution_count": 196,
   "metadata": {},
   "outputs": [
    {
     "data": {
      "image/png": "[encoded data removed]",
      "text/plain": [
       "<matplotlib.figure.Figure at 0x1b88a198>"
      ]
     },
     "metadata": {},
     "output_type": "display_data"
    }
   ],
   "source": [
    "plt.plot(fpr, tpr, color = \"red\")\n",
    "\n",
    "plt.xlabel(\"False Positive Rate\")\n",
    "plt.ylabel(\"True Positive Rate\")\n",
    "plt.title(\"ROC\")\n",
    "\n",
    "plt.show()"
   ]
  }
 ],
 "metadata": {
  "kernelspec": {
   "display_name": "Python 3",
   "language": "python",
   "name": "python3"
  },
  "language_info": {
   "codemirror_mode": {
    "name": "ipython",
    "version": 3
   },
   "file_extension": ".py",
   "mimetype": "text/x-python",
   "name": "python",
   "nbconvert_exporter": "python",
   "pygments_lexer": "ipython3",
   "version": "3.6.2"
  }
 },
 "nbformat": 4,
 "nbformat_minor": 2
}
